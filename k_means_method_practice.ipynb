from sklearn.datasets import make_blobs
X, y = make_blobs(n_samples=300, #サンプルデータの総数
                  n_features=2,  # 特微量の個数
                  centers=3,         # 作成する正規分布の数
                  random_state=0) #乱数生成器の状態を指定
print(X)

import matplotlib.pyplot as plt
%matplotlib inline

plt.scatter(X[:, 0], 
            X[:,1], 
            c='blue',
            marker='o', 
            s=50)

from sklearn.cluster import KMeans

km = KMeans(n_clusters=5)
# データをインスタンスに適合させる
km.fit(X)
km_predict = km.predict(X)
print(km_predict)

plt.scatter(X[km_predict == 0, 0],  # グラフのxの値
            X[km_predict == 0, 1],  # グラフのyの値
            s=50,             # プロットのサイズ
            c='green',   # プロットの色
            label='cluster1')# ラベル名

plt.scatter(X[km_predict == 1, 0],
            X[km_predict == 1, 1],
            s=50,
            c='purple',
            label='cluster2')

plt.scatter(X[km_predict == 2, 0],
            X[km_predict == 2, 1],
            s=50,
            c='red',
            label='cluster3')

plt.scatter(X[km_predict == 3, 0],
            X[km_predict == 3, 1],
            s=50,
            c='blue',
            label='cluster4')

plt.scatter(X[km_predict == 4, 0],
            X[km_predict == 4, 1],
            s=50,
            c='orange',
            label='cluster5')

# クラスターの重心は★マークを表示
plt.scatter(km.cluster_centers_[:, 0],
            km.cluster_centers_[:, 1],
            s=250,
            marker='*',
            c='yellow',
            label='centroid')

print('Sum of Distance: ',  km.inertia_)

distances = []
for i in range(1, 11): # for文を10回繰り返す
    km = KMeans(n_clusters=i)
    km.fit(X) # データを学習させる
    distances.append(km.inertia_) # SSEを配列に追加

# ここからグラフの描画
plt.plot(range(1, 11), distances, marker='.')
# グラフの横軸と縦軸のタイトルを指定
plt.xlabel('Number of Clusters')
plt.ylabel('Sum of Distance')

km = KMeans(n_clusters=3)
# データをインスタンスに適合させる
km.fit(X)
km_predict = km.predict(X)
print(km_predict)

plt.scatter(X[km_predict == 0, 0],  # グラフのxの値
            X[km_predict == 0, 1],  # グラフのyの値
            s=50,             # プロットのサイズ
            c='green',   # プロットの色
            label='cluster1')# ラベル名

plt.scatter(X[km_predict == 1, 0],
            X[km_predict == 1, 1],
            s=50,
            c='purple',
            label='cluster2')

plt.scatter(X[km_predict == 2, 0],
            X[km_predict == 2, 1],
            s=50,
            c='red',
            label='cluster3')

# クラスターの重心は★マークを表示
plt.scatter(km.cluster_centers_[:, 0],
            km.cluster_centers_[:, 1],
            s=250,
            marker='*',
            c='yellow',
            label='centroid')
#以上
