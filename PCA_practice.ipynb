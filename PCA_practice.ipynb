import pandas as pd
pokemon = pd.read_csv('https://raw.githubusercontent.com/we-b/datasets_for_ai/master/poke.csv')
pokemon.head()
import numpy as np
X = np.array(pokemon)
# ['HP','Attack','Defense','Sp. Atk','Sp. Def','Speed']の特徴量を取得
X = X[:, 2:8]
from sklearn.decomposition import PCA
# 主成分数を2に設定したインスタンスを生成
pca = PCA(n_components=2)
# PCAのインスタンスでポケモンのデータを学習
pca.fit(X)
# データについて学習したPCAで主成分を抽出する
X_pca = pca.transform(X)
print(X_pca)
import numpy as np
%matplotlib inline
import matplotlib.pyplot as plt
x = X_pca[:,0]
y = X_pca[:,1]
fig, ax = plt.subplots(figsize=(8,8))
plt.scatter(x, y)
plt.xlabel('1st principal component')  #第一主成分
plt.ylabel('2nd principal component')  #第二主成分
plt.show()
pca.explained_variance_ratio_
pca = PCA(n_components=6)
# PCAのインスタンスでポケモンのデータを学習
pca.fit(X)
# 寄与率を確認
pca.explained_variance_ratio_
pca.components_

attr=['HP','Attack','Defense','Sp. Atk','Sp. Def','Speed']

fig, ax = plt.subplots(figsize=(8,8))
plt.scatter(x, y)
for i in range(pca.components_.shape[1]):
    x1=pca.components_[0,i]*100
    y1=pca.components_[1,i]*100
    ax.arrow(0, 0, x1, y1,  head_width=5, head_length=10, fc='k', ec='k')
    plt.text(x1+15, y1,attr[i])
plt.show()

%matplotlib inline
import matplotlib.pyplot as plt
from sklearn import datasets
from sklearn.decomposition import PCA

mnist = datasets.load_digits()
print (mnist.data.shape)
print (mnist.target.shape)

X_compressed = PCA(n_components=2).fit_transform(mnist.data)
print (X_compressed.shape)

plt.scatter(X_compressed[:, 0], X_compressed[:, 1], c=mnist.target)
plt.colorbar()
from sklearn.manifold import TSNE

mnist = datasets.load_digits()
print (mnist.data.shape)
print (mnist.target.shape)

X_compressed = TSNE(n_components=2, random_state=0).fit_transform(mnist.data)
print (X_compressed.shape)

plt.scatter(X_compressed[:, 0], X_compressed[:, 1], c=mnist.target)
plt.colorbar()
#おわり
