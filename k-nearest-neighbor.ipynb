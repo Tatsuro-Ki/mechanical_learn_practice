from sklearn.datasets import load_digits

# データセットの読み込み
digits = load_digits()
print(digits)

digits.images.shape

import numpy as np
import matplotlib.pyplot as plt
%matplotlib inline

# 軸を削除する
plt.axis('off')
# 一番目の画像を出力する
plt.imshow(digits.images[0], cmap='gray_r')
plt.show()

digits.data.shape

print(digits.target)

from sklearn.model_selection import train_test_split
X = digits.data
# クラスラベルの取得
y = digits.target
# データセットの分割
X_train, X_test, y_train, y_test = train_test_split(X, y, test_size=0.3, random_state=0)

from sklearn.neighbors import KNeighborsClassifier
knn = KNeighborsClassifier(n_neighbors=5)
knn.fit(X_train, y_train)
y_test_pred = knn.predict(X_test)

from sklearn.metrics import accuracy_score
score = accuracy_score(y_test_pred, y_test)
print('テストデータ正答率 : ' , str(score))

print(X_test.shape)
# => (540, 64)
# 画像を2次元に戻す
X_test_images = X_test.reshape(540,8,8)
print(X_test_images.shape)
# => (540, 8, 8)

for i in range(10):
    # 軸を表示しない
    plt.axis('off')
    plt.imshow(X_test_images[i], cmap='gray_r')
    # 予測した数字と実際の画像を縦に並べる
    plt.title('pred' + str( y_test_pred[i]))
    plt.show()
    
#以上
