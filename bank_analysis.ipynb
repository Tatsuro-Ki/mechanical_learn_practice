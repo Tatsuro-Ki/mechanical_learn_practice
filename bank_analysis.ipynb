#あり銀行のキャンペーンの効果を調べる。
#各パラメーターからキャンペーン後口座を開設したか否かを予測する。
#y=0が口座を開設、1が未開設

import pandas as pd
# csvの読み取り

df1= pd.read_csv("train.csv")
df2= pd.read_csv("test.csv")
df1.head(50)

joblist = df1["job"].unique()
for i in range(len(joblist)):
    df1["job"] = df1["job"].replace(joblist[i],str(i))
    
    
joblist = df2["job"].unique()
for i in range(len(joblist)):
    df1["job"] = df1["job"].replace(joblist[i],str(i))
    
maritallist = df1["marital"].unique()
for i in range(len(maritallist)):
    df1["marital"] = df1["marital"].replace(maritallist[i],str(i))
educationlist = df1["education"].unique()
for i in range(len(educationlist)):
    df1["education"] = df1["education"].replace(educationlist[i],str(i))
defaultlist = df1["default"].unique()
for i in range(len(defaultlist)):
    df1["default"] = df1["default"].replace(defaultlist[i],str(i))
housinglist = df1["housing"].unique()
for i in range(len(housinglist)):
    df1["housing"] = df1["housing"].replace(housinglist[i],str(i))
loanlist = df1["loan"].unique()
for i in range(len(loanlist)):
    df1["loan"] = df1["loan"].replace(loanlist[i],str(i))
contactlist = df1["contact"].unique()
for i in range(len(contactlist)):
    df1["contact"] = df1["contact"].replace(contactlist[i],str(i))
monthlist = df1["month"].unique()
for i in range(len(monthlist)):
    df1["month"] = df1["month"].replace(monthlist[i],str(i))
poutcomelist = df1["poutcome"].unique()
for i in range(len(poutcomelist)):
    df1["poutcome"] = df1["poutcome"].replace(poutcomelist[i],str(i))
    
    
maritallist = df2["marital"].unique()
for i in range(len(maritallist)):
    df2["marital"] = df2["marital"].replace(maritallist[i],str(i))
educationlist = df2["education"].unique()
for i in range(len(educationlist)):
    df2["education"] = df2["education"].replace(educationlist[i],str(i))
defaultlist = df2["default"].unique()
for i in range(len(defaultlist)):
    df2["default"] = df2["default"].replace(defaultlist[i],str(i))
housinglist = df2["housing"].unique()
for i in range(len(housinglist)):
    df2["housing"] = df2["housing"].replace(housinglist[i],str(i))
loanlist = df2["loan"].unique()
for i in range(len(loanlist)):
    df2["loan"] = df2["loan"].replace(loanlist[i],str(i))
contactlist = df2["contact"].unique()
for i in range(len(contactlist)):
    df2["contact"] = df2["contact"].replace(contactlist[i],str(i))
monthlist = df2["month"].unique()
for i in range(len(monthlist)):
    df2["month"] = df2["month"].replace(monthlist[i],str(i))
poutcomelist = df2["poutcome"].unique()
for i in range(len(poutcomelist)):
    df2["poutcome"] = df2["poutcome"].replace(poutcomelist[i],str(i))
 
 df1['age'] = df1['age'].astype(float)
df1['job'] = df1['job'].astype(float)
df1['marital'] = df1['marital'].astype(float)
df1['education'] = df1['education'].astype(float)
df1['default'] = df1['default'].astype(float)
df1['balance'] = df1['balance'].astype(float)
df1['housing'] = df1['housing'].astype(float)
df1['loan'] = df1['loan'].astype(float)
df1['contact'] = df1['contact'].astype(float)
df1['day'] = df1['day'].astype(float)
df1['month'] = df1['month'].astype(float)
df1['duration'] = df1['duration'].astype(float)
df1['campaign'] = df1['campaign'].astype(float)
df1['pdays'] = df1['pdays'].astype(float)
df1['previous'] = df1['previous'].astype(float)
df1['poutcome'] = df1['poutcome'].astype(float)
df1['y'] = df1['y'].astype(float)
df1.head()

import numpy as np
df1.shape
#df1.head()

def zscore(x):
    xmean= x.mean()
    xstd= x.std()
    zscore=(x-xmean)/xstd
    return zscore

df1['age'] = zscore(df1['age'])
df1['job'] = zscore(df1['job'])
df1['marital'] = zscore(df1['marital'])
df1['education'] = zscore(df1['education'])
df1['default'] = zscore(df1['default'])
df1['balance'] = zscore(df1['balance'])
df1['housing'] = zscore(df1['housing'])
df1['loan'] = zscore(df1['loan'])
df1['contact'] = zscore(df1['contact'])
df1['day'] = zscore(df1['day'])
df1['month'] = zscore(df1['month'])
df1['duration'] = zscore(df1['duration'])
df1['campaign'] = zscore(df1['campaign'])
df1['pdays'] = zscore(df1['pdays'])
df1['previous'] = zscore(df1['previous'])
df1['poutcome'] = zscore(df1['poutcome'])
df1.head()

X=df1[['age','job','marital','education','default','balance','housing','loan','day','month','duration','campaign','pdays','previous','poutcome']]
Y=df1['y']

from sklearn.model_selection import train_test_split
X_train,X_test,Y_train,Y_test= train_test_split(X,Y,test_size=0.3)
import matplotlib.pyplot as plt
%matplotlib inline

from sklearn.feature_selection import SelectPercentile
select = SelectPercentile(percentile=50)
select.fit(X_train,Y_train)

X_train_selected = select.transform(X_train)

print("X_train.shape: {}".format(X_train.shape))
print("X_train_selected.shape: {}".format(X_train_selected.shape))


mask = select.get_support()
#print(mask)

# mask = select.get_support()
# print(mask)
plt.matshow(mask.reshape(1,-1),cmap='gray_r')
#白が廃棄、黒が採用

X=df1[['housing','loan','duration','campaign','pdays','previous','poutcome']]
Y=df1['y']
Z=df2[['housing','loan','duration','campaign','pdays','previous','poutcome']]
X.head()

import numpy as np
from sklearn.model_selection import train_test_split
from sklearn.svm import SVC
from sklearn.tree import DecisionTreeClassifier
from sklearn.ensemble import RandomForestClassifier

X_train,X_test,Y_train,Y_test = train_test_split(X,Y,test_size=0.2,random_state=0)
svm=SVC(kernel='linear')
tree=DecisionTreeClassifier(criterion='entropy',max_depth=3,random_state=0)
forest = RandomForestClassifier(n_estimators=1000,random_state=1)

svm.fit(X_train,Y_train)
tree.fit(X_train,Y_train)
forest.fit(X_train,Y_train)

svm_predict=svm.predict(X_test)
tree_predict=tree.predict(X_test)
forest_predict=forest.predict(X_test)

from sklearn.metrics import confusion_matrix
confusion_matrix(Y_test,forest_predict)

from sklearn.metrics import accuracy_score
score=accuracy_score(tree_predict,Y_test)
print('サポートベクトルマシン正答率',str(score))

from sklearn.metrics import accuracy_score
score=accuracy_score(forest_predict,Y_test)
print('ランダムフォレスト正答率',str(score))
